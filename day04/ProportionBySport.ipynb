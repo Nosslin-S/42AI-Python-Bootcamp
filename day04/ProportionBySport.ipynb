{
 "metadata": {
  "language_info": {
   "codemirror_mode": {
    "name": "ipython",
    "version": 3
   },
   "file_extension": ".py",
   "mimetype": "text/x-python",
   "name": "python",
   "nbconvert_exporter": "python",
   "pygments_lexer": "ipython3",
   "version": "3.8.3-final"
  },
  "orig_nbformat": 2,
  "kernelspec": {
   "name": "python_defaultSpec_1599479976584",
   "display_name": "Python 3.8.3 64-bit ('base': conda)"
  }
 },
 "nbformat": 4,
 "nbformat_minor": 2,
 "cells": [
  {
   "cell_type": "code",
   "execution_count": 1,
   "metadata": {},
   "outputs": [],
   "source": [
    "from FileLoader import FileLoader\n",
    "import pandas as pd"
   ]
  },
  {
   "cell_type": "code",
   "execution_count": 2,
   "metadata": {
    "tags": []
   },
   "outputs": [
    {
     "output_type": "stream",
     "name": "stdout",
     "text": "Loading dataset of dimensions 271116 x 15\n"
    }
   ],
   "source": [
    "loader = FileLoader()\n",
    "data = loader.load(\"athlete_events.csv\")"
   ]
  },
  {
   "cell_type": "code",
   "execution_count": 26,
   "metadata": {},
   "outputs": [],
   "source": [
    "filtered_df=data[(data['Year']==2004) & (data['Sex']=='F')].copy().drop_duplicates(subset=\"Name\",keep='first')"
   ]
  },
  {
   "cell_type": "code",
   "execution_count": 27,
   "metadata": {},
   "outputs": [
    {
     "output_type": "execute_result",
     "data": {
      "text/plain": "     ID                       Name Sex   Age  Height  Weight     Team  NOC  \\\n135  49               Moonika Aava   F  24.0   168.0    65.0  Estonia  EST   \n195  90  Tamila Rashidovna Abasova   F  21.0   163.0    60.0   Russia  RUS   \n\n           Games  Year  Season    City      Sport  \\\n135  2004 Summer  2004  Summer  Athina  Athletics   \n195  2004 Summer  2004  Summer  Athina    Cycling   \n\n                               Event   Medal  \n135  Athletics Women's Javelin Throw     NaN  \n195           Cycling Women's Sprint  Silver  ",
      "text/html": "<div>\n<style scoped>\n    .dataframe tbody tr th:only-of-type {\n        vertical-align: middle;\n    }\n\n    .dataframe tbody tr th {\n        vertical-align: top;\n    }\n\n    .dataframe thead th {\n        text-align: right;\n    }\n</style>\n<table border=\"1\" class=\"dataframe\">\n  <thead>\n    <tr style=\"text-align: right;\">\n      <th></th>\n      <th>ID</th>\n      <th>Name</th>\n      <th>Sex</th>\n      <th>Age</th>\n      <th>Height</th>\n      <th>Weight</th>\n      <th>Team</th>\n      <th>NOC</th>\n      <th>Games</th>\n      <th>Year</th>\n      <th>Season</th>\n      <th>City</th>\n      <th>Sport</th>\n      <th>Event</th>\n      <th>Medal</th>\n    </tr>\n  </thead>\n  <tbody>\n    <tr>\n      <th>135</th>\n      <td>49</td>\n      <td>Moonika Aava</td>\n      <td>F</td>\n      <td>24.0</td>\n      <td>168.0</td>\n      <td>65.0</td>\n      <td>Estonia</td>\n      <td>EST</td>\n      <td>2004 Summer</td>\n      <td>2004</td>\n      <td>Summer</td>\n      <td>Athina</td>\n      <td>Athletics</td>\n      <td>Athletics Women's Javelin Throw</td>\n      <td>NaN</td>\n    </tr>\n    <tr>\n      <th>195</th>\n      <td>90</td>\n      <td>Tamila Rashidovna Abasova</td>\n      <td>F</td>\n      <td>21.0</td>\n      <td>163.0</td>\n      <td>60.0</td>\n      <td>Russia</td>\n      <td>RUS</td>\n      <td>2004 Summer</td>\n      <td>2004</td>\n      <td>Summer</td>\n      <td>Athina</td>\n      <td>Cycling</td>\n      <td>Cycling Women's Sprint</td>\n      <td>Silver</td>\n    </tr>\n  </tbody>\n</table>\n</div>"
     },
     "metadata": {},
     "execution_count": 27
    }
   ],
   "source": [
    "filtered_df.head(2)"
   ]
  },
  {
   "cell_type": "code",
   "execution_count": 28,
   "metadata": {},
   "outputs": [],
   "source": [
    "filtered_df['Participant']=1"
   ]
  },
  {
   "cell_type": "code",
   "execution_count": 29,
   "metadata": {},
   "outputs": [],
   "source": [
    "grouped_df=filtered_df.groupby(\"Sport\").sum()"
   ]
  },
  {
   "cell_type": "code",
   "execution_count": 30,
   "metadata": {},
   "outputs": [
    {
     "output_type": "execute_result",
     "data": {
      "text/plain": "143.0"
     },
     "metadata": {},
     "execution_count": 30
    }
   ],
   "source": [
    "grouped_df.loc[\"Basketball\"][\"Participant\"]"
   ]
  },
  {
   "cell_type": "code",
   "execution_count": 31,
   "metadata": {},
   "outputs": [],
   "source": [
    "percentage=grouped_df.loc[\"Tennis\"][\"Participant\"]/sum(grouped_df[\"Participant\"])"
   ]
  },
  {
   "cell_type": "code",
   "execution_count": 32,
   "metadata": {},
   "outputs": [
    {
     "output_type": "execute_result",
     "data": {
      "text/plain": "0.01935634328358209"
     },
     "metadata": {},
     "execution_count": 32
    }
   ],
   "source": [
    "percentage"
   ]
  },
  {
   "cell_type": "code",
   "execution_count": null,
   "metadata": {},
   "outputs": [],
   "source": []
  }
 ]
}