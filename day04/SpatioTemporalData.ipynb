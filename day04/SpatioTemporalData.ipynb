{
 "metadata": {
  "language_info": {
   "codemirror_mode": {
    "name": "ipython",
    "version": 3
   },
   "file_extension": ".py",
   "mimetype": "text/x-python",
   "name": "python",
   "nbconvert_exporter": "python",
   "pygments_lexer": "ipython3",
   "version": "3.8.3-final"
  },
  "orig_nbformat": 2,
  "kernelspec": {
   "name": "python_defaultSpec_1599484033553",
   "display_name": "Python 3.8.3 64-bit (virtualenv)"
  }
 },
 "nbformat": 4,
 "nbformat_minor": 2,
 "cells": [
  {
   "cell_type": "code",
   "execution_count": 1,
   "metadata": {},
   "outputs": [],
   "source": [
    "import pandas as pd\n",
    "from FileLoader import FileLoader\n"
   ]
  },
  {
   "cell_type": "code",
   "execution_count": 2,
   "metadata": {
    "tags": []
   },
   "outputs": [
    {
     "output_type": "stream",
     "name": "stdout",
     "text": "Loading dataset of dimensions 271116 x 15\n"
    }
   ],
   "source": [
    "loader=FileLoader()\n",
    "data=loader.load(\"athlete_events.csv\")"
   ]
  },
  {
   "cell_type": "code",
   "execution_count": 20,
   "metadata": {},
   "outputs": [
    {
     "output_type": "execute_result",
     "data": {
      "text/plain": "   ID                      Name Sex   Age  Height  Weight            Team  \\\n0   1                 A Dijiang   M  24.0   180.0    80.0           China   \n1   2                  A Lamusi   M  23.0   170.0    60.0           China   \n2   3       Gunnar Nielsen Aaby   M  24.0     NaN     NaN         Denmark   \n3   4      Edgar Lindenau Aabye   M  34.0     NaN     NaN  Denmark/Sweden   \n4   5  Christine Jacoba Aaftink   F  21.0   185.0    82.0     Netherlands   \n\n   NOC        Games  Year  Season       City          Sport  \\\n0  CHN  1992 Summer  1992  Summer  Barcelona     Basketball   \n1  CHN  2012 Summer  2012  Summer     London           Judo   \n2  DEN  1920 Summer  1920  Summer  Antwerpen       Football   \n3  DEN  1900 Summer  1900  Summer      Paris     Tug-Of-War   \n4  NED  1988 Winter  1988  Winter    Calgary  Speed Skating   \n\n                              Event Medal  \n0       Basketball Men's Basketball   NaN  \n1      Judo Men's Extra-Lightweight   NaN  \n2           Football Men's Football   NaN  \n3       Tug-Of-War Men's Tug-Of-War  Gold  \n4  Speed Skating Women's 500 metres   NaN  ",
      "text/html": "<div>\n<style scoped>\n    .dataframe tbody tr th:only-of-type {\n        vertical-align: middle;\n    }\n\n    .dataframe tbody tr th {\n        vertical-align: top;\n    }\n\n    .dataframe thead th {\n        text-align: right;\n    }\n</style>\n<table border=\"1\" class=\"dataframe\">\n  <thead>\n    <tr style=\"text-align: right;\">\n      <th></th>\n      <th>ID</th>\n      <th>Name</th>\n      <th>Sex</th>\n      <th>Age</th>\n      <th>Height</th>\n      <th>Weight</th>\n      <th>Team</th>\n      <th>NOC</th>\n      <th>Games</th>\n      <th>Year</th>\n      <th>Season</th>\n      <th>City</th>\n      <th>Sport</th>\n      <th>Event</th>\n      <th>Medal</th>\n    </tr>\n  </thead>\n  <tbody>\n    <tr>\n      <th>0</th>\n      <td>1</td>\n      <td>A Dijiang</td>\n      <td>M</td>\n      <td>24.0</td>\n      <td>180.0</td>\n      <td>80.0</td>\n      <td>China</td>\n      <td>CHN</td>\n      <td>1992 Summer</td>\n      <td>1992</td>\n      <td>Summer</td>\n      <td>Barcelona</td>\n      <td>Basketball</td>\n      <td>Basketball Men's Basketball</td>\n      <td>NaN</td>\n    </tr>\n    <tr>\n      <th>1</th>\n      <td>2</td>\n      <td>A Lamusi</td>\n      <td>M</td>\n      <td>23.0</td>\n      <td>170.0</td>\n      <td>60.0</td>\n      <td>China</td>\n      <td>CHN</td>\n      <td>2012 Summer</td>\n      <td>2012</td>\n      <td>Summer</td>\n      <td>London</td>\n      <td>Judo</td>\n      <td>Judo Men's Extra-Lightweight</td>\n      <td>NaN</td>\n    </tr>\n    <tr>\n      <th>2</th>\n      <td>3</td>\n      <td>Gunnar Nielsen Aaby</td>\n      <td>M</td>\n      <td>24.0</td>\n      <td>NaN</td>\n      <td>NaN</td>\n      <td>Denmark</td>\n      <td>DEN</td>\n      <td>1920 Summer</td>\n      <td>1920</td>\n      <td>Summer</td>\n      <td>Antwerpen</td>\n      <td>Football</td>\n      <td>Football Men's Football</td>\n      <td>NaN</td>\n    </tr>\n    <tr>\n      <th>3</th>\n      <td>4</td>\n      <td>Edgar Lindenau Aabye</td>\n      <td>M</td>\n      <td>34.0</td>\n      <td>NaN</td>\n      <td>NaN</td>\n      <td>Denmark/Sweden</td>\n      <td>DEN</td>\n      <td>1900 Summer</td>\n      <td>1900</td>\n      <td>Summer</td>\n      <td>Paris</td>\n      <td>Tug-Of-War</td>\n      <td>Tug-Of-War Men's Tug-Of-War</td>\n      <td>Gold</td>\n    </tr>\n    <tr>\n      <th>4</th>\n      <td>5</td>\n      <td>Christine Jacoba Aaftink</td>\n      <td>F</td>\n      <td>21.0</td>\n      <td>185.0</td>\n      <td>82.0</td>\n      <td>Netherlands</td>\n      <td>NED</td>\n      <td>1988 Winter</td>\n      <td>1988</td>\n      <td>Winter</td>\n      <td>Calgary</td>\n      <td>Speed Skating</td>\n      <td>Speed Skating Women's 500 metres</td>\n      <td>NaN</td>\n    </tr>\n  </tbody>\n</table>\n</div>"
     },
     "metadata": {},
     "execution_count": 20
    }
   ],
   "source": [
    "data.head(5)"
   ]
  },
  {
   "cell_type": "code",
   "execution_count": 13,
   "metadata": {},
   "outputs": [],
   "source": [
    "df=data[data['Year']==2012]['City'].drop_duplicates(keep='first')"
   ]
  },
  {
   "cell_type": "code",
   "execution_count": 15,
   "metadata": {},
   "outputs": [
    {
     "output_type": "execute_result",
     "data": {
      "text/plain": "['London']"
     },
     "metadata": {},
     "execution_count": 15
    }
   ],
   "source": [
    "list(df)"
   ]
  },
  {
   "cell_type": "code",
   "execution_count": 18,
   "metadata": {},
   "outputs": [],
   "source": [
    "df2=data[data['City']=='Paris']['Year'].drop_duplicates(keep='first')"
   ]
  },
  {
   "cell_type": "code",
   "execution_count": 19,
   "metadata": {},
   "outputs": [
    {
     "output_type": "execute_result",
     "data": {
      "text/plain": "3     1900\n39    1924\nName: Year, dtype: int64"
     },
     "metadata": {},
     "execution_count": 19
    }
   ],
   "source": [
    "df2"
   ]
  },
  {
   "cell_type": "code",
   "execution_count": null,
   "metadata": {},
   "outputs": [],
   "source": []
  }
 ]
}